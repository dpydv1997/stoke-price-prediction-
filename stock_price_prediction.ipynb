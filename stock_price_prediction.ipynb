{
 "cells": [
  {
   "cell_type": "code",
   "execution_count": 1,
   "metadata": {},
   "outputs": [],
   "source": [
    "# import the modules that we used \n",
    "import pandas as pd\n",
    "import numpy as np\n",
    "from sklearn.linear_model import LinearRegression\n",
    "from sklearn.model_selection import train_test_split\n",
    "from sklearn.svm import SVR"
   ]
  },
  {
   "cell_type": "code",
   "execution_count": 2,
   "metadata": {},
   "outputs": [
    {
     "data": {
      "text/html": [
       "<div>\n",
       "<style scoped>\n",
       "    .dataframe tbody tr th:only-of-type {\n",
       "        vertical-align: middle;\n",
       "    }\n",
       "\n",
       "    .dataframe tbody tr th {\n",
       "        vertical-align: top;\n",
       "    }\n",
       "\n",
       "    .dataframe thead th {\n",
       "        text-align: right;\n",
       "    }\n",
       "</style>\n",
       "<table border=\"1\" class=\"dataframe\">\n",
       "  <thead>\n",
       "    <tr style=\"text-align: right;\">\n",
       "      <th></th>\n",
       "      <th>open</th>\n",
       "      <th>high</th>\n",
       "      <th>low</th>\n",
       "      <th>close</th>\n",
       "      <th>volume</th>\n",
       "    </tr>\n",
       "    <tr>\n",
       "      <th>date</th>\n",
       "      <th></th>\n",
       "      <th></th>\n",
       "      <th></th>\n",
       "      <th></th>\n",
       "      <th></th>\n",
       "    </tr>\n",
       "  </thead>\n",
       "  <tbody>\n",
       "    <tr>\n",
       "      <th>25/11/19</th>\n",
       "      <td>262.71</td>\n",
       "      <td>266.44</td>\n",
       "      <td>262.52</td>\n",
       "      <td>266.37</td>\n",
       "      <td>21029517</td>\n",
       "    </tr>\n",
       "    <tr>\n",
       "      <th>26/11/19</th>\n",
       "      <td>266.94</td>\n",
       "      <td>267.16</td>\n",
       "      <td>262.50</td>\n",
       "      <td>264.29</td>\n",
       "      <td>26334882</td>\n",
       "    </tr>\n",
       "    <tr>\n",
       "      <th>27/11/19</th>\n",
       "      <td>265.58</td>\n",
       "      <td>267.98</td>\n",
       "      <td>265.31</td>\n",
       "      <td>267.84</td>\n",
       "      <td>16386122</td>\n",
       "    </tr>\n",
       "    <tr>\n",
       "      <th>29/11/19</th>\n",
       "      <td>266.60</td>\n",
       "      <td>268.00</td>\n",
       "      <td>265.90</td>\n",
       "      <td>267.25</td>\n",
       "      <td>11654363</td>\n",
       "    </tr>\n",
       "    <tr>\n",
       "      <th>02/12/19</th>\n",
       "      <td>267.27</td>\n",
       "      <td>268.25</td>\n",
       "      <td>263.45</td>\n",
       "      <td>264.16</td>\n",
       "      <td>23693550</td>\n",
       "    </tr>\n",
       "  </tbody>\n",
       "</table>\n",
       "</div>"
      ],
      "text/plain": [
       "            open    high     low   close    volume\n",
       "date                                              \n",
       "25/11/19  262.71  266.44  262.52  266.37  21029517\n",
       "26/11/19  266.94  267.16  262.50  264.29  26334882\n",
       "27/11/19  265.58  267.98  265.31  267.84  16386122\n",
       "29/11/19  266.60  268.00  265.90  267.25  11654363\n",
       "02/12/19  267.27  268.25  263.45  264.16  23693550"
      ]
     },
     "execution_count": 2,
     "metadata": {},
     "output_type": "execute_result"
    }
   ],
   "source": [
    "# load the data\n",
    "data=pd.read_csv('apple.csv',index_col='date')\n",
    "data.tail()"
   ]
  },
  {
   "cell_type": "code",
   "execution_count": 3,
   "metadata": {},
   "outputs": [
    {
     "data": {
      "text/html": [
       "<div>\n",
       "<style scoped>\n",
       "    .dataframe tbody tr th:only-of-type {\n",
       "        vertical-align: middle;\n",
       "    }\n",
       "\n",
       "    .dataframe tbody tr th {\n",
       "        vertical-align: top;\n",
       "    }\n",
       "\n",
       "    .dataframe thead th {\n",
       "        text-align: right;\n",
       "    }\n",
       "</style>\n",
       "<table border=\"1\" class=\"dataframe\">\n",
       "  <thead>\n",
       "    <tr style=\"text-align: right;\">\n",
       "      <th></th>\n",
       "      <th>close</th>\n",
       "    </tr>\n",
       "    <tr>\n",
       "      <th>date</th>\n",
       "      <th></th>\n",
       "    </tr>\n",
       "  </thead>\n",
       "  <tbody>\n",
       "    <tr>\n",
       "      <th>12/12/80</th>\n",
       "      <td>0.5134</td>\n",
       "    </tr>\n",
       "    <tr>\n",
       "      <th>15/12/80</th>\n",
       "      <td>0.4866</td>\n",
       "    </tr>\n",
       "    <tr>\n",
       "      <th>16/12/80</th>\n",
       "      <td>0.4509</td>\n",
       "    </tr>\n",
       "    <tr>\n",
       "      <th>17/12/80</th>\n",
       "      <td>0.4620</td>\n",
       "    </tr>\n",
       "    <tr>\n",
       "      <th>18/12/80</th>\n",
       "      <td>0.4755</td>\n",
       "    </tr>\n",
       "  </tbody>\n",
       "</table>\n",
       "</div>"
      ],
      "text/plain": [
       "           close\n",
       "date            \n",
       "12/12/80  0.5134\n",
       "15/12/80  0.4866\n",
       "16/12/80  0.4509\n",
       "17/12/80  0.4620\n",
       "18/12/80  0.4755"
      ]
     },
     "execution_count": 3,
     "metadata": {},
     "output_type": "execute_result"
    }
   ],
   "source": [
    "# get the close price\n",
    "data=data[['close']]\n",
    "data.head()"
   ]
  },
  {
   "cell_type": "code",
   "execution_count": 4,
   "metadata": {},
   "outputs": [
    {
     "name": "stdout",
     "output_type": "stream",
     "text": [
      "           close  prediction\n",
      "date                        \n",
      "12/12/80  0.5134      0.4866\n",
      "15/12/80  0.4866      0.4509\n",
      "16/12/80  0.4509      0.4620\n",
      "17/12/80  0.4620      0.4755\n",
      "18/12/80  0.4755      0.5045\n"
     ]
    }
   ],
   "source": [
    "# create a variable for n number of days for predicting the future price\n",
    "ndays= 1 # n=30days\n",
    "# create another variable that (target or dependent variable) shifted n days up from the row\n",
    "data['prediction']=data[['close']].shift(-ndays)\n",
    "print(data.head())"
   ]
  },
  {
   "cell_type": "code",
   "execution_count": 5,
   "metadata": {},
   "outputs": [
    {
     "name": "stdout",
     "output_type": "stream",
     "text": [
      "[[  0.5134]\n",
      " [  0.4866]\n",
      " [  0.4509]\n",
      " ...\n",
      " [267.84  ]\n",
      " [267.25  ]\n",
      " [264.16  ]]\n"
     ]
    }
   ],
   "source": [
    "# create a indipendent data set x \n",
    "# covert that data frame into numpy array\n",
    "x=np.array(data.drop(['prediction'],axis=1))\n",
    "print(x)"
   ]
  },
  {
   "cell_type": "code",
   "execution_count": 6,
   "metadata": {},
   "outputs": [
    {
     "name": "stdout",
     "output_type": "stream",
     "text": [
      "[[  0.5134]\n",
      " [  0.4866]\n",
      " [  0.4509]\n",
      " ...\n",
      " [264.29  ]\n",
      " [267.84  ]\n",
      " [267.25  ]]\n"
     ]
    }
   ],
   "source": [
    "# remove the last n rows from the data\n",
    "x=x[:-ndays]\n",
    "print(x)"
   ]
  },
  {
   "cell_type": "code",
   "execution_count": 7,
   "metadata": {},
   "outputs": [
    {
     "name": "stdout",
     "output_type": "stream",
     "text": [
      "[  0.4866   0.4509   0.462  ... 267.84   267.25   264.16  ]\n"
     ]
    }
   ],
   "source": [
    "# create the dependent data set y\n",
    "# convert the data set into numpy aray\n",
    "y=np.array(data['prediction'])\n",
    "# get all the y value accepted the n rows\n",
    "y=y[:-ndays]\n",
    "print(y)"
   ]
  },
  {
   "cell_type": "code",
   "execution_count": 8,
   "metadata": {},
   "outputs": [],
   "source": [
    "# split the data into 80% training and 20% testing\n",
    "x_train,x_test,y_train,y_test=train_test_split(x,y,test_size=0.2,random_state=2)\n"
   ]
  },
  {
   "cell_type": "code",
   "execution_count": 9,
   "metadata": {},
   "outputs": [
    {
     "data": {
      "text/plain": [
       "SVR(C=1000.0, cache_size=200, coef0=0.0, degree=3, epsilon=0.1, gamma=0.1,\n",
       "    kernel='rbf', max_iter=-1, shrinking=True, tol=0.001, verbose=False)"
      ]
     },
     "execution_count": 9,
     "metadata": {},
     "output_type": "execute_result"
    }
   ],
   "source": [
    "# create and train the support vector machine\n",
    "obj=SVR(kernel='rbf',C=1e3,gamma=0.1)\n",
    "obj.fit(x_train,y_train)\n"
   ]
  },
  {
   "cell_type": "code",
   "execution_count": 10,
   "metadata": {},
   "outputs": [
    {
     "name": "stdout",
     "output_type": "stream",
     "text": [
      "0.9995992572384133\n"
     ]
    }
   ],
   "source": [
    "# testing model score \n",
    "svm_score=obj.score(x_test,y_test)\n",
    "print(svm_score)"
   ]
  },
  {
   "cell_type": "code",
   "execution_count": 11,
   "metadata": {},
   "outputs": [
    {
     "data": {
      "text/plain": [
       "LinearRegression(copy_X=True, fit_intercept=True, n_jobs=None, normalize=False)"
      ]
     },
     "execution_count": 11,
     "metadata": {},
     "output_type": "execute_result"
    }
   ],
   "source": [
    "# create and train the linear regression model\n",
    "# train the model\n",
    "\n",
    "regr=LinearRegression()\n",
    "regr.fit(x_train,y_train)\n"
   ]
  },
  {
   "cell_type": "code",
   "execution_count": 12,
   "metadata": {},
   "outputs": [],
   "source": [
    "# testing model=score returnds the coefficient of determination R^2 of the prediction\n",
    "regr_confidence=regr.score(x_test,y_test)"
   ]
  },
  {
   "cell_type": "code",
   "execution_count": 13,
   "metadata": {},
   "outputs": [
    {
     "name": "stdout",
     "output_type": "stream",
     "text": [
      "regr_confidence:->   0.999625120072082\n"
     ]
    }
   ],
   "source": [
    "print('regr_confidence:->  ',regr_confidence)"
   ]
  },
  {
   "cell_type": "code",
   "execution_count": 14,
   "metadata": {},
   "outputs": [
    {
     "name": "stdout",
     "output_type": "stream",
     "text": [
      "[[264.16]]\n"
     ]
    }
   ],
   "source": [
    "# set x_ndays equal to the last 30 rows of the originial data set from close column\n",
    "x_ndays=np.array(data.drop(['prediction'],axis=1))[-ndays:]\n",
    "print(x_ndays)"
   ]
  },
  {
   "cell_type": "code",
   "execution_count": 15,
   "metadata": {},
   "outputs": [
    {
     "data": {
      "text/plain": [
       "date\n",
       "25/11/19    266.37\n",
       "26/11/19    264.29\n",
       "27/11/19    267.84\n",
       "29/11/19    267.25\n",
       "02/12/19    264.16\n",
       "Name: close, dtype: float64"
      ]
     },
     "execution_count": 15,
     "metadata": {},
     "output_type": "execute_result"
    }
   ],
   "source": [
    "data['close'].tail() #value 264.16 is the last value of the data from the \n",
    "# close column for this value we can check the next day closing prediction price "
   ]
  },
  {
   "cell_type": "code",
   "execution_count": 16,
   "metadata": {},
   "outputs": [
    {
     "name": "stdout",
     "output_type": "stream",
     "text": [
      "[[264.16]]\n",
      "date\n",
      "12/12/80    0.5134\n",
      "15/12/80    0.4866\n",
      "16/12/80    0.4509\n",
      "17/12/80    0.4620\n",
      "18/12/80    0.4755\n",
      "19/12/80    0.5045\n",
      "22/12/80    0.5291\n",
      "23/12/80    0.5514\n",
      "24/12/80    0.5804\n",
      "26/12/80    0.6339\n",
      "29/12/80    0.6429\n",
      "30/12/80    0.6271\n",
      "31/12/80    0.6095\n",
      "02/01/81    0.6161\n",
      "05/01/81    0.6027\n",
      "Name: close, dtype: float64\n"
     ]
    }
   ],
   "source": [
    "print(x_ndays)\n",
    "print(data['close'].head(15))"
   ]
  },
  {
   "cell_type": "code",
   "execution_count": 17,
   "metadata": {},
   "outputs": [
    {
     "name": "stdout",
     "output_type": "stream",
     "text": [
      "[264.46758176]\n"
     ]
    }
   ],
   "source": [
    "# print the linear model regression prediction for next 'n' days\n",
    "linear_pred=regr.predict(x_ndays)\n",
    "print(linear_pred)"
   ]
  },
  {
   "cell_type": "code",
   "execution_count": 18,
   "metadata": {},
   "outputs": [
    {
     "name": "stdout",
     "output_type": "stream",
     "text": [
      "[264.46758176]\n"
     ]
    }
   ],
   "source": [
    "# print the svr model prediction  for the next 'n' days \n",
    "svr_pred=regr.predict(x_ndays)\n",
    "print(svr_pred)"
   ]
  },
  {
   "cell_type": "code",
   "execution_count": 19,
   "metadata": {},
   "outputs": [
    {
     "name": "stdout",
     "output_type": "stream",
     "text": [
      "[19.02176421]\n"
     ]
    }
   ],
   "source": [
    "t=[[19]]\n",
    "td=pd.DataFrame(t)\n",
    "linear_pred=regr.predict(td)\n",
    "print(linear_pred)"
   ]
  },
  {
   "cell_type": "code",
   "execution_count": 20,
   "metadata": {},
   "outputs": [],
   "source": [
    "from tkinter import *\n",
    "from tkinter import messagebox as msg"
   ]
  },
  {
   "cell_type": "code",
   "execution_count": 22,
   "metadata": {},
   "outputs": [],
   "source": [
    "class Linr(Frame):\n",
    "    def __init__(self,master):\n",
    "        super().__init__(master)\n",
    "        self.l1=Label(self,text='Enter last closing price')#,font('algerian',12),bd=8,fg='light blue')\n",
    "        \n",
    "        self.t1=Entry(self,bd=8)#,font=('arial',14))\n",
    "        \n",
    "        self.b1=Button(self,text='Predict',bd=6,command=self.Show)\n",
    "        self.rowconfigure(index=0,pad=10)\n",
    "        self.rowconfigure(index=1,pad=10)\n",
    "        \n",
    "        \n",
    "        \n",
    "        self.l1.grid(row=1,column=0)\n",
    "        self.t1.grid(row=1,column=1)\n",
    "       \n",
    "        self.b1.grid(columnspan=2)\n",
    "        \n",
    "        self.pack()\n",
    "        \n",
    "    def Show(self):\n",
    "        w=float(self.t1.get())        \n",
    "        tdata=[[x_ndays]]\n",
    "        test=pd.DataFrame(tdata)\n",
    "        output=regr.predict(test)\n",
    "        msg.showinfo('predict', output)\n",
    "        \n",
    "root=Tk()\n",
    "ob=Linr(root)\n",
    "root.geometry('250x250')\n",
    "root.mainloop()"
   ]
  },
  {
   "cell_type": "code",
   "execution_count": null,
   "metadata": {},
   "outputs": [],
   "source": []
  }
 ],
 "metadata": {
  "kernelspec": {
   "display_name": "Python 3",
   "language": "python",
   "name": "python3"
  },
  "language_info": {
   "codemirror_mode": {
    "name": "ipython",
    "version": 3
   },
   "file_extension": ".py",
   "mimetype": "text/x-python",
   "name": "python",
   "nbconvert_exporter": "python",
   "pygments_lexer": "ipython3",
   "version": "3.7.3"
  }
 },
 "nbformat": 4,
 "nbformat_minor": 2
}
