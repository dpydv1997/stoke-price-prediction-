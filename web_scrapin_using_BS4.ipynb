{
 "cells": [
  {
   "cell_type": "code",
   "execution_count": 1,
   "metadata": {},
   "outputs": [],
   "source": [
    "import numpy as np\n",
    "import pandas as pd\n",
    "from bs4 import BeautifulSoup\n",
    "from urllib.request import urlopen"
   ]
  },
  {
   "cell_type": "markdown",
   "metadata": {},
   "source": [
    "# get links of the website"
   ]
  },
  {
   "cell_type": "code",
   "execution_count": 2,
   "metadata": {},
   "outputs": [],
   "source": [
    "url='https://www.mycodingzone.net/blog/english'\n",
    "data=urlopen(url)"
   ]
  },
  {
   "cell_type": "code",
   "execution_count": 6,
   "metadata": {},
   "outputs": [],
   "source": [
    "soup=BeautifulSoup(data,'html.parser')"
   ]
  },
  {
   "cell_type": "code",
   "execution_count": 11,
   "metadata": {},
   "outputs": [
    {
     "name": "stdout",
     "output_type": "stream",
     "text": [
      "<p>Before I start telling you about wheel files and how to install them, I would like to tell you about their significance. We all generally use pip to install python modules which fails at times. In such situations, we have no other option than to search for error on stackoverflow or post it on forums.\n",
      "\n",
      "\n",
      "\n",
      "\n",
      "\n",
      "\n",
      "\r\n",
      "\r\n",
      "But if you face any problem down...</p>\n",
      "<p>\r\n",
      "When I started my python journey and tried to install a package using pip from the command line, I faced the same issue. You can either watch this video or skip it since I will be discussing the fix to this error in detail below:\r\n",
      "\n",
      "\n",
      "\n",
      "\n",
      "\n",
      "\n",
      "\n",
      "\n",
      "\n",
      "\r\n",
      "At that time i wish someone could have told me how to fix the same.\r\n",
      "In this post, I am going to tel...</p>\n",
      "<p>In this post, I will discuss about one of the most common, simple and useful problems of the bin packing literature. Given a rectangle, how many small rectangles of given dimensions would fit it. I was facing a similar issue and finally got the answer to my problem on my own.  Assuming length is greater than the breadth for both the rectangle...</p>\n",
      "<p class=\"pull-right\"><a href=\"#\">Back to top</a></p>\n",
      "<p>© 2018 MyCodingZone, Inc. · <a href=\"#\">Privacy</a> · <a href=\"#\">Terms</a></p>\n"
     ]
    }
   ],
   "source": [
    "# soup.prettify() #it give the source code of the web page\n",
    "for para in soup.find('p'): # thi print the paragraph of the page starting line only \n",
    "    print(para)\n",
    "for para in soup.find_all('p'): # this give all para present in the page \n",
    "    print(para)"
   ]
  },
  {
   "cell_type": "code",
   "execution_count": 17,
   "metadata": {},
   "outputs": [
    {
     "name": "stdout",
     "output_type": "stream",
     "text": [
      "https://www.mycodingzone.net/english\n",
      "https://www.mycodingzone.net/english\n",
      "https://www.mycodingzone.net/tutorials/python/english/getting-started-with-python\n",
      "https://www.mycodingzone.net/blog/english\n",
      "https://www.mycodingzone.net/videos/english\n",
      "https://www.mycodingzone.net/hire/english\n",
      "https://www.mycodingzone.net/english\n",
      "https://www.mycodingzone.net/hindi\n",
      "https://www.mycodingzone.net/hindi-devnagri\n",
      "https://www.mycodingzone.net/blog/hindi\n",
      "https://www.mycodingzone.net/blog/hindi-devnagri\n",
      "https://www.mycodingzone.net/blogpost/english/how-to-install-python-modules-using-wheel\n",
      "https://www.mycodingzone.net/blogpost/english/how-to-install-python-modules-using-wheel\n",
      "https://www.mycodingzone.net/blogpost/english/pip-is-not-recognized-as-an-internal-or-external-command\n",
      "https://www.mycodingzone.net/blogpost/english/pip-is-not-recognized-as-an-internal-or-external-command\n",
      "https://www.mycodingzone.net/blogpost/english/how-many-similar-rectangles-will-fit-inside-a-larger-rectangle-of-given-size\n",
      "https://www.mycodingzone.net/blogpost/english/how-many-similar-rectangles-will-fit-inside-a-larger-rectangle-of-given-size\n",
      "https://www.mycodingzone.net/blog/english?number=0\n",
      "https://www.mycodingzone.net/blog/english?number=2\n"
     ]
    }
   ],
   "source": [
    "# findin all links in the page\n",
    "for links in soup.find_all('a'):\n",
    "    links=links.get('href')\n",
    "#     print(links)\n",
    "    \n",
    "# for removing and ... from the links so we can put some if else conndition l\n",
    "# ike instead of .. we put https://www.mycodingzone.net\n",
    "# this give the complete links \n",
    "    if links[0:3]=='../' and links!='#':\n",
    "        print('https://www.mycodingzone.net' + links[2:len(links)])\n",
    "    elif links[0]=='/' and links!='#':\n",
    "        print('https://www.mycodingzone.net' + links)\n",
    "    elif links!='#': # this command give that link which is alwayas complete\n",
    "        print(links)"
   ]
  },
  {
   "cell_type": "code",
   "execution_count": 26,
   "metadata": {},
   "outputs": [],
   "source": [
    "url2='https://aktu.ac.in/'\n",
    "data=urlopen(url)"
   ]
  },
  {
   "cell_type": "code",
   "execution_count": 27,
   "metadata": {},
   "outputs": [],
   "source": [
    "soup=BeautifulSoup(data,'html.parser')"
   ]
  },
  {
   "cell_type": "code",
   "execution_count": 28,
   "metadata": {},
   "outputs": [
    {
     "name": "stdout",
     "output_type": "stream",
     "text": [
      "None\n",
      "None\n",
      "None\n",
      "None\n",
      "None\n",
      "None\n",
      "None\n",
      "None\n",
      "None\n",
      "None\n",
      "None\n",
      "None\n",
      "None\n",
      "None\n",
      "None\n",
      "None\n",
      "None\n",
      "None\n",
      "None\n",
      "None\n",
      "None\n",
      "None\n",
      "None\n",
      "None\n",
      "None\n",
      "None\n",
      "None\n",
      "None\n"
     ]
    }
   ],
   "source": [
    "for link in soup.find_all('a'):\n",
    "    link=link.get('herf')\n",
    "    print(link)"
   ]
  },
  {
   "cell_type": "code",
   "execution_count": 29,
   "metadata": {},
   "outputs": [
    {
     "name": "stdout",
     "output_type": "stream",
     "text": [
      "Before I start telling you about wheel files and how to install them, I would like to tell you about their significance. We all generally use pip to install python modules which fails at times. In such situations, we have no other option than to search for error on stackoverflow or post it on forums.\n",
      "\n",
      "\n",
      "\n",
      "\n",
      "\n",
      "\n",
      "\r\n",
      "\r\n",
      "But if you face any problem down...\n"
     ]
    }
   ],
   "source": [
    "for para in soup.find('p'):\n",
    "    print(para)"
   ]
  },
  {
   "cell_type": "code",
   "execution_count": null,
   "metadata": {},
   "outputs": [],
   "source": []
  }
 ],
 "metadata": {
  "kernelspec": {
   "display_name": "Python 3",
   "language": "python",
   "name": "python3"
  },
  "language_info": {
   "codemirror_mode": {
    "name": "ipython",
    "version": 3
   },
   "file_extension": ".py",
   "mimetype": "text/x-python",
   "name": "python",
   "nbconvert_exporter": "python",
   "pygments_lexer": "ipython3",
   "version": "3.7.3"
  }
 },
 "nbformat": 4,
 "nbformat_minor": 2
}
